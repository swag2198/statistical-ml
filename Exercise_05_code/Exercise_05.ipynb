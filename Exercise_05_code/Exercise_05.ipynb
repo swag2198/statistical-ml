{
 "cells": [
  {
   "cell_type": "markdown",
   "metadata": {},
   "source": [
    "# Logistic Regression\n",
    "\n",
    "The focus of this week is implementing the Laplace approximation to the logistic regression problem described in lectures.\n",
    "\n",
    "## Overview\n",
    "- **Task 1**: Calculate the Laplace Approximation to the posterior distribution\n",
    "- **Task 2**: Sample from the Laplace Approximation to plot decision boundaries\n",
    "- **Epilogue**: Use automatic differentiation (autodiff) to calculate the gradient and Hessian.\n"
   ]
  },
  {
   "cell_type": "code",
   "execution_count": 1,
   "metadata": {},
   "outputs": [],
   "source": [
    "# Necessary packages\n",
    "import numpy as np\n",
    "import matplotlib.pyplot as plt\n",
    "import matplotlib as mpl\n",
    "import pickle\n",
    "import scipy.optimize\n",
    "\n",
    "# %matplotlib notebook\n",
    "%matplotlib inline"
   ]
  },
  {
   "cell_type": "markdown",
   "metadata": {},
   "source": [
    "## Load in the required data\n",
    "\n",
    "Load the data saved in the file `observed_data.p` (e.g., using `pickle`). It contains your observation in the form of `X` values and `y` binary labels as type `np.array`."
   ]
  },
  {
   "cell_type": "code",
   "execution_count": 2,
   "metadata": {},
   "outputs": [],
   "source": [
    "##### Your code goes here #####\n",
    "data = np.load('./observed_data.p', allow_pickle=True)\n",
    "X_data = data['X']\n",
    "y_data = data['y']"
   ]
  },
  {
   "cell_type": "code",
   "execution_count": 3,
   "metadata": {},
   "outputs": [
    {
     "data": {
      "text/plain": [
       "((100, 2), (100,))"
      ]
     },
     "execution_count": 3,
     "metadata": {},
     "output_type": "execute_result"
    }
   ],
   "source": [
    "X_data.shape, y_data.shape"
   ]
  },
  {
   "cell_type": "markdown",
   "metadata": {},
   "source": [
    "## Visualize the data\n",
    "\n",
    "Let us plot the data in the two classes  to see if we can separate the classes visually."
   ]
  },
  {
   "cell_type": "code",
   "execution_count": 4,
   "metadata": {},
   "outputs": [
    {
     "data": {
      "image/png": "[encoded data removed]",
      "text/plain": [
       "<Figure size 432x288 with 1 Axes>"
      ]
     },
     "metadata": {
      "needs_background": "light"
     },
     "output_type": "display_data"
    }
   ],
   "source": [
    "# plot data\n",
    "fig,ax = plt.subplots()\n",
    "ax.scatter(X_data[y_data==0,0], X_data[y_data==0,1], color='orange', label='y=0')\n",
    "ax.scatter(X_data[y_data==1,0], X_data[y_data==1,1], color='darkviolet', marker=\"+\" ,s=100,label='y=1') \n",
    "ax.set_xlabel('X1')\n",
    "ax.set_ylabel('X2')\n",
    "ax.legend()\n",
    "\n",
    "plt.show()"
   ]
  },
  {
   "cell_type": "markdown",
   "metadata": {},
   "source": [
    "## Add dummy X variable\n",
    "\n",
    "We might want to learn an offset as well for the decision boundary, instead of just $w_1x + w_2y$. Modify `X_data` so that the first row is filled by 1's. "
   ]
  },
  {
   "cell_type": "code",
   "execution_count": 5,
   "metadata": {},
   "outputs": [],
   "source": [
    "X = np.c_[np.ones((X_data.shape[0], 1)), X_data]\n",
    "y = y_data"
   ]
  },
  {
   "cell_type": "code",
   "execution_count": 6,
   "metadata": {},
   "outputs": [
    {
     "data": {
      "text/plain": [
       "(100, 3)"
      ]
     },
     "execution_count": 6,
     "metadata": {},
     "output_type": "execute_result"
    }
   ],
   "source": [
    "X.shape"
   ]
  },
  {
   "cell_type": "markdown",
   "metadata": {},
   "source": [
    "## Task 1 - Define Logistic Regression Model\n",
    "\n",
    "Recall from the lectures the likelihood model for logistic regression with weights $w$.\n",
    "\n",
    "\\begin{equation}\n",
    "p(y|w,x) = \\left\\{\n",
    "    \\begin{split}\n",
    "    \\sigma(x^\\top w) \\quad & y=1\\\\\n",
    "    1-\\sigma(x^\\top w) \\quad & y=0\n",
    "    \\end{split}\n",
    "     \\right.\n",
    "\\end{equation}\n",
    "\n",
    "Where $\\sigma$ is the sigmoid function\n",
    "\\begin{equation}\n",
    "\\sigma(z) = \\frac{1}{1+\\exp(-z)}\n",
    "\\end{equation}\n",
    "\n",
    "Recall that assuming that the different datapoints $(x,y)$ are independent, then $p(Y|w,X) = \\prod_{i=1}^{N}p(y_i|w.x_i)$.\n",
    "\n",
    "Implement the functions below."
   ]
  },
  {
   "cell_type": "code",
   "execution_count": 7,
   "metadata": {},
   "outputs": [
    {
     "data": {
      "text/plain": [
       "((100,),\n",
       " array([0, 0, 0, 0, 1, 0, 1, 1, 1, 1, 1, 1, 1, 0, 1, 0, 0, 1, 0, 1, 1, 1,\n",
       "        0, 1, 1, 1, 1, 1, 1, 1, 0, 1, 1, 1, 0, 0, 1, 0, 1, 1, 1, 0, 1, 0,\n",
       "        1, 1, 1, 1, 1, 0, 0, 1, 1, 1, 1, 0, 1, 1, 0, 0, 1, 0, 1, 0, 0, 0,\n",
       "        1, 0, 0, 0, 1, 0, 1, 0, 1, 1, 0, 1, 0, 0, 0, 0, 0, 1, 1, 0, 1, 0,\n",
       "        1, 1, 1, 1, 0, 1, 1, 0, 1, 0, 1, 1]))"
      ]
     },
     "execution_count": 7,
     "metadata": {},
     "output_type": "execute_result"
    }
   ],
   "source": [
    "w = np.array([0.1, 0.1, 0.1])\n",
    "np.matmul(X, w).shape, y"
   ]
  },
  {
   "cell_type": "code",
   "execution_count": 8,
   "metadata": {},
   "outputs": [
    {
     "data": {
      "text/plain": [
       "array([0, 0, 0, 0, 1, 0, 1, 1, 1, 1, 1, 1, 1, 0, 1, 0, 0, 1, 0, 1, 1, 1,\n",
       "       0, 1, 1, 1, 1, 1, 1, 1, 0, 1, 1, 1, 0, 0, 1, 0, 1, 1, 1, 0, 1, 0,\n",
       "       1, 1, 1, 1, 1, 0, 0, 1, 1, 1, 1, 0, 1, 1, 0, 0, 1, 0, 1, 0, 0, 0,\n",
       "       1, 0, 0, 0, 1, 0, 1, 0, 1, 1, 0, 1, 0, 0, 0, 0, 0, 1, 1, 0, 1, 0,\n",
       "       1, 1, 1, 1, 0, 1, 1, 0, 1, 0, 1, 1])"
      ]
     },
     "execution_count": 8,
     "metadata": {},
     "output_type": "execute_result"
    }
   ],
   "source": [
    "y"
   ]
  },
  {
   "cell_type": "code",
   "execution_count": 9,
   "metadata": {},
   "outputs": [],
   "source": [
    "def sigmoid(z):\n",
    "    # your code here...\n",
    "    # raise NotImplementedError\n",
    "    return 1/(1+np.exp(-z))  # caution: do not do `z=z-z.max()` as it is sigmoid, not softmax!\n",
    "    \n",
    "\n",
    "def log_likelihood(w, X, y):\n",
    "    # your code here...\n",
    "    # raise NotImplementedError\n",
    "    z = np.matmul(X, w)  # [100, 3] x[3, 1]\n",
    "    y_ = np.zeros_like(y); y_[y==1]=1; y_[y==0]=-1  # relabel to 1,-1\n",
    "    return np.log(sigmoid(y_*z)).sum()"
   ]
  },
  {
   "cell_type": "code",
   "execution_count": 10,
   "metadata": {},
   "outputs": [
    {
     "data": {
      "text/plain": [
       "(-59.121976082980254, -59.121976082980254)"
      ]
     },
     "execution_count": 10,
     "metadata": {},
     "output_type": "execute_result"
    }
   ],
   "source": [
    "z = np.matmul(X, w)\n",
    "y_ = np.zeros_like(y); y_[y==1]=1; y_[y==0]=-1\n",
    "\n",
    "np.log(sigmoid(y_*z)).sum()\n",
    "log_likelihood(w, X, y), np.log(sigmoid(z[y==1])).sum() + np.log(1. - sigmoid(z[y==0])).sum()"
   ]
  },
  {
   "cell_type": "code",
   "execution_count": 11,
   "metadata": {},
   "outputs": [
    {
     "data": {
      "text/plain": [
       "-59.121976082980254"
      ]
     },
     "execution_count": 11,
     "metadata": {},
     "output_type": "execute_result"
    }
   ],
   "source": [
    "np.log(  sigmoid(np.matmul(X, w)[y==1])  ).sum() + np.log( 1 - sigmoid(np.matmul(X, w)[y==0])  ).sum()"
   ]
  },
  {
   "cell_type": "code",
   "execution_count": null,
   "metadata": {},
   "outputs": [],
   "source": []
  },
  {
   "cell_type": "code",
   "execution_count": null,
   "metadata": {},
   "outputs": [],
   "source": []
  },
  {
   "cell_type": "code",
   "execution_count": null,
   "metadata": {},
   "outputs": [],
   "source": []
  },
  {
   "cell_type": "markdown",
   "metadata": {},
   "source": [
    "## Finding the Laplace Approximation\n",
    "\n",
    "Now, let us move on to the task of approximating a posterior distribution. Assumke we define a Gaussian prior over the weights:\n",
    "\\begin{equation}\n",
    "p(w) = \\mathcal{N}(w; 0, \\sigma^{2}_{w}I)\n",
    "\\end{equation}\n",
    "\n",
    "Then recall that the Laplace approximation is given by $p(w|Y,X) \\approx \\mathcal{N}(w; w_{*}, -\\mathcal{H}^{-1})$, and is found in two steps:\n",
    "- **Step 1**: Calculate the mode $w_{*}$ of $\\log p(w|Y,X)$ by gradient ascent.\n",
    "- **Step 2**: Compute the Hessian matrix at the mode:\n",
    "\\begin{equation}\n",
    "\\mathcal{H} = \\nabla\\nabla \\log p(w|Y,X)|_w{*}\n",
    "\\end{equation}\n",
    "\n",
    "Implement the functions below to calculate the negative log posterior"
   ]
  },
  {
   "cell_type": "code",
   "execution_count": 14,
   "metadata": {},
   "outputs": [
    {
     "data": {
      "text/plain": [
       "0.030000000000000006"
      ]
     },
     "execution_count": 14,
     "metadata": {},
     "output_type": "execute_result"
    }
   ],
   "source": [
    "# w.T\n",
    "Sigma_inv = 1/(prior_sigma**2) * np.eye(len(w))\n",
    "w1 = w.reshape(-1, 1)\n",
    "np.dot(w, Sigma_inv@w)"
   ]
  },
  {
   "cell_type": "code",
   "execution_count": 15,
   "metadata": {},
   "outputs": [],
   "source": [
    "# Compute Laplace Approximation\n",
    "prior_sigma = 1.0\n",
    "\n",
    "\n",
    "\n",
    "def log_prior(w):\n",
    "    # your code here...\n",
    "    # raise NotImplementedError\n",
    "    Sigma_inv = 1/(prior_sigma**2) * np.eye(len(w))\n",
    "    return -0.5*np.dot(w, Sigma_inv@w)  # caution: do not miss the 0.5!!!!\n",
    "\n",
    "def neg_log_posterior(w, X, y):\n",
    "    # your code here...\n",
    "    # raise NotImplementedError\n",
    "    return -(log_prior(w) + log_likelihood(w, X, y))"
   ]
  },
  {
   "cell_type": "markdown",
   "metadata": {},
   "source": [
    "We minimize the negative log posterior to find the MAP"
   ]
  },
  {
   "cell_type": "code",
   "execution_count": 16,
   "metadata": {},
   "outputs": [
    {
     "name": "stdout",
     "output_type": "stream",
     "text": [
      "[-1.93153227  0.81397871  2.1046409 ]\n"
     ]
    }
   ],
   "source": [
    "w = np.array([0.1, 0.1, 0.1])\n",
    "\n",
    "laplace_opt=scipy.optimize.minimize(neg_log_posterior,  # objective function f(w, *args)\n",
    "                                    w,\n",
    "                                    args=(X,y), # other arguments to objective\n",
    "                                    jac=False,  # Method for computing the gradient vector.\n",
    "                                    options={'maxiter':25}\n",
    "                                   )\n",
    "map = laplace_opt.x\n",
    "print(map)"
   ]
  },
  {
   "cell_type": "markdown",
   "metadata": {},
   "source": [
    "### Visualize the results\n",
    "\n",
    "Let's plot the predictions using the MAP (choosing the class that is most likely, even if the predicted probability is close to 0.5). Let's also plot whether this prediction matches the true label or not to see how we did."
   ]
  },
  {
   "cell_type": "code",
   "execution_count": 17,
   "metadata": {},
   "outputs": [
    {
     "data": {
      "text/plain": [
       "<matplotlib.legend.Legend at 0x12ea650a0>"
      ]
     },
     "execution_count": 17,
     "metadata": {},
     "output_type": "execute_result"
    },
    {
     "data": {
      "image/png": "[encoded data removed]",
      "text/plain": [
       "<Figure size 720x360 with 2 Axes>"
      ]
     },
     "metadata": {
      "needs_background": "light"
     },
     "output_type": "display_data"
    }
   ],
   "source": [
    "# MAP predictions\n",
    "\n",
    "y_pred = np.round(sigmoid(X.dot(map)))\n",
    "fig,ax = plt.subplots(figsize=(10,5),ncols=2,sharey=True)\n",
    "ax[0].scatter(X_data[y_pred==0,0], X_data[y_pred==0,1], color='orange', label='y=0')\n",
    "ax[0].scatter(X_data[y_pred==1,0], X_data[y_pred==1,1], color='darkviolet', marker=\"+\" ,s=100,label='y=1')\n",
    "ax[0].set_xlabel('X1')\n",
    "ax[0].set_ylabel('X2')\n",
    "ax[0].legend()\n",
    "ax[1].scatter(X_data[y_data==y_pred,0], X_data[y_data==y_pred,1], color='green', label='correct')\n",
    "ax[1].scatter(X_data[y_data!=y_pred,0], X_data[y_data!=y_pred,1], color='red', label='incorrect')\n",
    "ax[1].set_xlabel('X1')\n",
    "ax[1].set_ylabel('X2')\n",
    "ax[1].legend()\n"
   ]
  },
  {
   "cell_type": "markdown",
   "metadata": {},
   "source": [
    "## Implement the Hessian matrix\n",
    "\n",
    "Complete the function below and evaluate the matrix at the MAP calculated above."
   ]
  },
  {
   "cell_type": "code",
   "execution_count": 18,
   "metadata": {},
   "outputs": [],
   "source": [
    "z = np.matmul(X, w)\n",
    "# sigmoid(1-z)"
   ]
  },
  {
   "cell_type": "code",
   "execution_count": 19,
   "metadata": {
    "scrolled": true
   },
   "outputs": [],
   "source": [
    "# np.diag(np.exp(np.matmul(X, map)))"
   ]
  },
  {
   "cell_type": "code",
   "execution_count": 20,
   "metadata": {},
   "outputs": [
    {
     "name": "stdout",
     "output_type": "stream",
     "text": [
      "Posterior mean: [-1.93153227  0.81397871  2.1046409 ]\n",
      "Posterior covariance: [[ 0.22434649 -0.05484873 -0.14074999]\n",
      " [-0.05484873  0.03913767  0.05163597]\n",
      " [-0.14074999  0.05163597  0.1622508 ]]\n"
     ]
    }
   ],
   "source": [
    "def hessian(w, X, y):\n",
    "    # your code here...\n",
    "    # raise NotImplementedError\n",
    "    z=np.matmul(X, w)\n",
    "    R=np.diag(sigmoid(z)*(1-sigmoid(z)))  # caution: it is not sigmoid(1-z)!!!!\n",
    "    return -X.T@R@X  - (1/prior_sigma**2)*np.eye(len(w))\n",
    "\n",
    "\n",
    "H = hessian(map, X, y)\n",
    "\n",
    "post_mean = map\n",
    "post_cov = np.linalg.inv(-H)\n",
    "\n",
    "print(f'Posterior mean: {post_mean}')\n",
    "print(f'Posterior covariance: {post_cov}')"
   ]
  },
  {
   "cell_type": "code",
   "execution_count": 21,
   "metadata": {},
   "outputs": [
    {
     "data": {
      "text/plain": [
       "array([[-10.225489  ,  -4.52863092,  -7.42922178],\n",
       "       [ -4.52863092, -46.04950109,  10.72663853],\n",
       "       [ -7.42922178,  10.72663853, -16.02175852]])"
      ]
     },
     "execution_count": 21,
     "metadata": {},
     "output_type": "execute_result"
    }
   ],
   "source": [
    "H"
   ]
  },
  {
   "cell_type": "markdown",
   "metadata": {},
   "source": [
    "## Task 2 - Sample from Posterior and visualize the results\n",
    "\n",
    "One way to visualize the posterior is to plot the decision boundaries associated with samples from the posterior.\n",
    "\n",
    "The predicted probability of both classes will be exactly 0.5 when $\\sigma(x^{\\top}w) = 0.5$, which holds when $x^{\\top}w= 0$. Recalling that we introduced a dummy variable at the beginning of this notebook, we expand the above product as $w_0 + w_1x_1 + w_2x_2 =0$.\n",
    "\n",
    "Therefore, for every sample from the posterior $w\\sim p(w|Y,X)$, we can plot the corresponding decision boundary by plotting the line $x_2 = \\frac{-w_0 - w_1x_1}{w_2}$. We can also color each decision boundary proportional to the posterior probability of $w$.\n",
    "\n",
    "Implement the missing code blocks below to generate the decision boundary plots.\n"
   ]
  },
  {
   "cell_type": "code",
   "execution_count": 23,
   "metadata": {},
   "outputs": [],
   "source": [
    "# post_prob(w, post_mean, post_cov)"
   ]
  },
  {
   "cell_type": "code",
   "execution_count": 24,
   "metadata": {},
   "outputs": [
    {
     "name": "stderr",
     "output_type": "stream",
     "text": [
      "/var/folders/qp/4w02sqhj6_d43815lhzjb7900000gn/T/ipykernel_42767/270863172.py:1: MatplotlibDeprecationWarning: The get_cmap function was deprecated in Matplotlib 3.7 and will be removed two minor releases later. Use ``matplotlib.colormaps[name]`` or ``matplotlib.colormaps.get_cmap(obj)`` instead.\n",
      "  cmap = mpl.cm.get_cmap('winter')\n"
     ]
    },
    {
     "data": {
      "image/png": "[encoded data removed]",
      "text/plain": [
       "<Figure size 576x576 with 2 Axes>"
      ]
     },
     "metadata": {
      "needs_background": "light"
     },
     "output_type": "display_data"
    }
   ],
   "source": [
    "cmap = mpl.cm.get_cmap('winter')\n",
    "\n",
    "def draw_posterior_sample(mean,cov):\n",
    "    # This function should return one sample from the posterior distribution\n",
    "    # Hint: use np.random.multivariate_normal\n",
    "    # your code here...\n",
    "    return np.random.multivariate_normal(mean=mean, cov=cov, size=(1,))[0]\n",
    "    \n",
    "def post_prob(w, mean, cov):\n",
    "    # This function should return the probability of the sample w under the posterior distribution\n",
    "    # your code here...\n",
    "    import scipy\n",
    "    mvn = scipy.stats.multivariate_normal(mean=mean, cov=cov)\n",
    "    return mvn.pdf(w)\n",
    "\n",
    "# normalzing values to [0,1] for color mapping\n",
    "# What is the maximum probability of the posterior distribution?\n",
    "# (Hint: max value is achieved at the MAP).\n",
    "w_prob_max = post_prob(post_mean, post_mean, post_cov)#your code here...\n",
    "\n",
    "\n",
    "\n",
    "fig,ax = plt.subplots(figsize=(8,8))\n",
    "x1 = np.linspace(-4,6,100) #fixed array of first coordinate x values to plot lines with\n",
    "for i in range(10):\n",
    "    w_post = draw_posterior_sample(post_mean, post_cov)\n",
    "    w_prob = post_prob(w_post,post_mean,post_cov)\n",
    "    x2 = (-w_post[0]-w_post[1]*x1)/w_post[2]   # Calculate the x2 values for the decision boundary\n",
    "    ax.plot(x1,x2,c = cmap(w_prob/w_prob_max)) # Plot the line and color it according to the probability of w\n",
    "\n",
    "# Plot the dataset as before\n",
    "ax.scatter(X_data[y_data==0,0], X_data[y_data==0,1], color='orange', label='y=0',zorder=-1)\n",
    "ax.scatter(X_data[y_data==1,0], X_data[y_data==1,1], color='darkviolet', marker=\"+\", s=100,\n",
    "           label='y=1', zorder=-1) \n",
    "ax.set_xlabel('X1'); ax.set_ylabel('X2'); ax.legend(); ax.set_ylim(-4,7)\n",
    "fig.colorbar(mpl.cm.ScalarMappable(norm=mpl.colors.Normalize(vmin=0, vmax=1), cmap=cmap),\n",
    "             ax=ax, label='prob');"
   ]
  },
  {
   "cell_type": "markdown",
   "metadata": {},
   "source": [
    "## Epilogue - Automatic Differentiation\n",
    "\n",
    "In this exercise, we calculated analytic expressions for the Hessian matrix (and did not explicitly used the analytic derivative to solve the optimization problem to find the the MAP, although this would have made the task even easier). \n",
    "\n",
    "Sometimes, analytic expressions are not possible to obtain. However, using automatic differentiation, we can compute derivatives when we calculate the value of the log-posterior, without providing analytical expressions!\n",
    "\n",
    "Here, we will reimplement the functions from Task 1, but now using an automatic differentiation framework, and show how we can calculate the derivative (and the Hessian) of the log-posterior. \n",
    "\n",
    "We will use [Pytorch](https://pytorch.org/get-started/locally/) for this demonstration, so make sure you have a local installation. There are other automatic differentiation libraries in python, namely [JAX](https://jax.readthedocs.io/en/latest/installation.html)."
   ]
  },
  {
   "cell_type": "code",
   "execution_count": 25,
   "metadata": {},
   "outputs": [],
   "source": [
    "# Required imports\n",
    "import torch\n",
    "import torch.optim as optim"
   ]
  },
  {
   "cell_type": "code",
   "execution_count": 26,
   "metadata": {},
   "outputs": [],
   "source": [
    "X_torch = torch.Tensor(X) #Convert X to a torch tensor\n",
    "y_torch = torch.Tensor(y) #Convert y to a torch tensor"
   ]
  },
  {
   "cell_type": "markdown",
   "metadata": {},
   "source": [
    "### Reimplemeting the log-posterior\n",
    "\n",
    "The functions should be the same as the functions defined at the start of this notebook, but all functions should now be in `torch` - you should not use any numpy functions or arrays here."
   ]
  },
  {
   "cell_type": "code",
   "execution_count": 27,
   "metadata": {},
   "outputs": [],
   "source": [
    "# You don't need to re-implement sigmoid, as you can use torch.sigmoid()!\n",
    "\n",
    "\n",
    "def torch_log_likelihood(w, X, y):\n",
    "    # your code here...\n",
    "    z = torch.matmul(X, w)  # [100, 3] x[3, 1]\n",
    "    y_ = torch.zeros_like(y); y_[y==1]=1; y_[y==0]=-1  # relabel to 1,-1\n",
    "    return torch.log(torch.sigmoid(y_*z)).sum()\n",
    "\n",
    "def torch_log_prior(w):\n",
    "    # your code here...\n",
    "    Sigma_inv = 1/(prior_sigma**2) * torch.eye(len(w))\n",
    "    return -0.5*torch.dot(w, Sigma_inv@w)\n",
    "\n",
    "def torch_neg_log_posterior(w, X, y):\n",
    "    #your code here...\n",
    "    return -(torch_log_prior(w) + torch_log_likelihood(w, X, y))"
   ]
  },
  {
   "cell_type": "code",
   "execution_count": 28,
   "metadata": {},
   "outputs": [
    {
     "data": {
      "text/plain": [
       "tensor(-59.1220)"
      ]
     },
     "execution_count": 28,
     "metadata": {},
     "output_type": "execute_result"
    }
   ],
   "source": [
    "w_torch = torch.Tensor(w)\n",
    "torch_log_likelihood(w_torch, X_torch, y_torch)"
   ]
  },
  {
   "cell_type": "markdown",
   "metadata": {},
   "source": [
    "### Calculating the MAP\n",
    "\n",
    "We can now get the gradient of the log posterior using automatic differentiation! Let's use it to write our own simple optimization loop (as opposed to the previous optimization using `scipy`)."
   ]
  },
  {
   "cell_type": "code",
   "execution_count": 29,
   "metadata": {},
   "outputs": [
    {
     "name": "stdout",
     "output_type": "stream",
     "text": [
      "negative log posterior:  59.13697814941406\n",
      "negative log posterior:  29.034833908081055\n",
      "negative log posterior:  26.221303939819336\n",
      "negative log posterior:  25.215778350830078\n",
      "negative log posterior:  24.78070831298828\n",
      "negative log posterior:  24.573545455932617\n",
      "negative log posterior:  24.46928596496582\n",
      "negative log posterior:  24.414953231811523\n",
      "negative log posterior:  24.385982513427734\n",
      "negative log posterior:  24.37027931213379\n",
      "negative log posterior:  24.361675262451172\n",
      "negative log posterior:  24.356922149658203\n",
      "negative log posterior:  24.354280471801758\n",
      "negative log posterior:  24.35280990600586\n",
      "negative log posterior:  24.35198402404785\n",
      "negative log posterior:  24.351520538330078\n",
      "negative log posterior:  24.35126304626465\n",
      "negative log posterior:  24.351112365722656\n",
      "negative log posterior:  24.351032257080078\n",
      "negative log posterior:  24.350984573364258\n",
      "MAP computed with autoamtic differentiation:  tensor([-1.9278,  0.8128,  2.1016])\n",
      "MAP computed with scipy:  [-1.93153227  0.81397871  2.1046409 ]\n"
     ]
    }
   ],
   "source": [
    "map_torch = torch.tensor([0.1, 0.1, 0.1], requires_grad=True) #Initialize w as a torch tensor\n",
    "optimizer = optim.SGD([map_torch],lr=0.01) #Initialize a basic pytorch optimizer\n",
    "\n",
    "for i in range(200):\n",
    "    optimizer.zero_grad() #make sure we do not carry any gradients from the previous iteration\n",
    "    loss = torch_neg_log_posterior(map_torch, X_torch, y_torch) #Compute the negative log posterior\n",
    "    loss.backward() #Compute the gradient of the negative log posterior\n",
    "    optimizer.step() #Update the weights\n",
    "    if i%10 == 0:\n",
    "        print(\"negative log posterior: \" ,loss.item())\n",
    "\n",
    "# Compare the MAP estimates from the two methods\n",
    "print(\"MAP computed with autoamtic differentiation: \" , map_torch.data)\n",
    "print(\"MAP computed with scipy: \" , map)"
   ]
  },
  {
   "cell_type": "markdown",
   "metadata": {},
   "source": [
    "### Calculating the Hessian\n",
    "\n",
    "Similarly, we can compute the Hessian when computing the log-posterior using automatic differentiation."
   ]
  },
  {
   "cell_type": "code",
   "execution_count": 30,
   "metadata": {},
   "outputs": [
    {
     "name": "stdout",
     "output_type": "stream",
     "text": [
      "Analytical Hessian:\n",
      "[[-10.225489    -4.52863092  -7.42922178]\n",
      " [ -4.52863092 -46.04950109  10.72663853]\n",
      " [ -7.42922178  10.72663853 -16.02175852]]\n",
      "PyTorch Hessian:\n",
      "[[-10.234274   -4.5320725  -7.4355993]\n",
      " [ -4.532073  -46.092392   10.732538 ]\n",
      " [ -7.4355993  10.732539  -16.041096 ]]\n"
     ]
    }
   ],
   "source": [
    "# Negative hessian as we calculated the negative log posterior\n",
    "neg_hessian = torch.autograd.functional.hessian(torch_neg_log_posterior, (map_torch, X_torch,y_torch), create_graph=True)\n",
    "# We actually get the hessian for all inputs, (so also for X and y!). We only care about the Hessian for the weights.\n",
    "H_torch = -neg_hessian[0][0]\n",
    "\n",
    "# Compare the Hessian with the one you computed before\n",
    "print(\"Analytical Hessian:\")\n",
    "print(H)\n",
    "print(\"PyTorch Hessian:\")\n",
    "print(H_torch.detach().numpy())"
   ]
  },
  {
   "cell_type": "code",
   "execution_count": null,
   "metadata": {},
   "outputs": [],
   "source": []
  },
  {
   "cell_type": "code",
   "execution_count": null,
   "metadata": {},
   "outputs": [],
   "source": []
  },
  {
   "cell_type": "code",
   "execution_count": null,
   "metadata": {},
   "outputs": [],
   "source": []
  },
  {
   "cell_type": "code",
   "execution_count": null,
   "metadata": {},
   "outputs": [],
   "source": []
  }
 ],
 "metadata": {
  "kernelspec": {
   "display_name": "Python 3 (ipykernel)",
   "language": "python",
   "name": "python3"
  },
  "language_info": {
   "codemirror_mode": {
    "name": "ipython",
    "version": 3
   },
   "file_extension": ".py",
   "mimetype": "text/x-python",
   "name": "python",
   "nbconvert_exporter": "python",
   "pygments_lexer": "ipython3",
   "version": "3.8.18"
  }
 },
 "nbformat": 4,
 "nbformat_minor": 4
}
